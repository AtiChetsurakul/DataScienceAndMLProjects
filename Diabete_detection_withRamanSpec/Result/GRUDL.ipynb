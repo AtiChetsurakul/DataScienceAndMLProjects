{
 "cells": [
  {
   "cell_type": "markdown",
   "metadata": {},
   "source": [
    "# IMPLEMENTER: Pyae Sone Kyaw"
   ]
  },
  {
   "cell_type": "markdown",
   "metadata": {},
   "source": [
    "```python\n",
    "class RamGRU(nn.Module):\n",
    "    def __init__(self, input_size = 1000, hidden_size=50, out_size=2):\n",
    "        super().__init__()\n",
    "        #with dropout\n",
    "        self.gru = nn.GRU(input_size, hidden_size, batch_first=True, dropout=0.2)\n",
    "        self.linear = nn.Linear(hidden_size, out_size)\n",
    "        \n",
    "    def forward(self, seq):\n",
    "        out, _ = self.gru(seq)\n",
    "        out = out[:, -1, :] #(B, Hout)\n",
    "\n",
    "        out = self.linear(out)\n",
    "        return out\n",
    "\n",
    "model = RamGRU().to(device)\n",
    "criterion = nn.CrossEntropyLoss()\n",
    "optimizer = torch.optim.Adam(model.parameters(), lr=0.0001)\n",
    "model\n",
    "```"
   ]
  },
  {
   "cell_type": "markdown",
   "metadata": {},
   "source": [
    "## Acc score\n",
    "- earlobe:  30.0\n",
    "- inner_arm:  55.0\n",
    "- thumb_nail:  65.0\n",
    "- median_cubital_vein:  35.0"
   ]
  },
  {
   "cell_type": "markdown",
   "metadata": {},
   "source": [
    "Seed - 25811243\n",
    "\n",
    "![1669809879511](../__pyae/1669809879511.png)\n",
    "\n",
    "seed - 34806794\n",
    "\n",
    "![1669809919927](../__pyae/1669809919927.png)\n",
    "\n",
    "seed - 2022\n",
    "\n",
    "![1669809934471](../__pyae/1669809934471.png)\n",
    "\n",
    "seed -1910\n",
    "\n",
    "![1669809949589](../__pyae/1669809949589.png)\n",
    "\n",
    "seed -222\n",
    "\n",
    "![1669809963282](../__pyae/1669809963282.png)\n"
   ]
  },
  {
   "cell_type": "markdown",
   "metadata": {},
   "source": [
    "# ANOTHER GRU:\n"
   ]
  },
  {
   "cell_type": "markdown",
   "metadata": {},
   "source": [
    "```py\n",
    "class RamGRU(nn.Module):\n",
    "    def __init__(self, hidden_size=128, out_size=2):\n",
    "        super(RamGRU, self).__init__()\n",
    "        self.gru = nn.GRU(1000, hidden_size, num_layers=1, batch_first=True)\n",
    "        self.linear = nn.Linear(hidden_size, out_size)\n",
    "        self.softmax = nn.Softmax(dim=1)\n",
    "        self.relu = nn.ReLU()\n",
    "        self.dropout = nn.Dropout(0.5)\n",
    "        self.hidden_size = hidden_size\n",
    "        self.out_size = out_size\n",
    "\n",
    "    def forward(self, x):\n",
    "        batch_size = x.size(0)\n",
    "        hidden = self.init_hidden(batch_size)\n",
    "        out, hidden = self.gru(x, hidden)\n",
    "        out = self.linear(out[:, -1, :])\n",
    "        out = self.softmax(out)\n",
    "        return out\n",
    "    \n",
    "    def init_hidden(self, batch_size):\n",
    "        return torch.zeros(1, batch_size, self.hidden_size).to(device)\n",
    "```"
   ]
  },
  {
   "cell_type": "markdown",
   "metadata": {},
   "source": []
  }
 ],
 "metadata": {
  "kernelspec": {
   "display_name": "Python 3.9.6 64-bit",
   "language": "python",
   "name": "python3"
  },
  "language_info": {
   "name": "python",
   "version": "3.9.6"
  },
  "orig_nbformat": 4,
  "vscode": {
   "interpreter": {
    "hash": "aee8b7b246df8f9039afb4144a1f6fd8d2ca17a180786b69acc140d282b71a49"
   }
  }
 },
 "nbformat": 4,
 "nbformat_minor": 2
}
