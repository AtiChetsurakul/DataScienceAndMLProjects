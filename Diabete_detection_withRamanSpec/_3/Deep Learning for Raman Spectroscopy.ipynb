{
 "cells": [
  {
   "cell_type": "markdown",
   "id": "85bb6d58",
   "metadata": {},
   "source": [
    "# Deep Learning for Raman Spectroscopy review"
   ]
  },
  {
   "cell_type": "markdown",
   "id": "3ed075e1",
   "metadata": {},
   "source": [
    "### Machine Learning for  Raman spectroscopy can be separated into four main parts: \n",
    "- pre-processing \n",
    "- classification\n",
    "- regression and \n",
    "- highlighting\n"
   ]
  },
  {
   "cell_type": "markdown",
   "id": "adbbfc0d",
   "metadata": {},
   "source": [
    "## 1-ProProccessing"
   ]
  },
  {
   "cell_type": "markdown",
   "id": "194bffab",
   "metadata": {},
   "source": [
    "1D CNNs are commonly applied for Raman spectral pre-processing. \n",
    "For example, Wahl et al., presented a single-step automated Raman spectral pre-processing method using CNN.\n",
    "\n",
    "The convolutional layers have 128, 64, 16, 16, and 16 filters,\n",
    "respectively; the fully-connected layers have 32, 16, and 640 neurons, respectively, and each layer has a rectified linear unit (ReLU) as activation function.\n"
   ]
  },
  {
   "attachments": {},
   "cell_type": "markdown",
   "id": "e560dd54",
   "metadata": {},
   "source": [
    "## 2-Classification and Regression\n"
   ]
  },
  {
   "cell_type": "markdown",
   "id": "701bb43f",
   "metadata": {},
   "source": [
    "1D CNNs are the most commonly applied models among these algorithms, and ResNets are very popular as well.\n"
   ]
  },
  {
   "cell_type": "markdown",
   "id": "ab590073",
   "metadata": {},
   "source": [
    "## 3-Spectral Data Highlighting\n"
   ]
  },
  {
   "cell_type": "markdown",
   "id": "f21d2c54",
   "metadata": {},
   "source": [
    "## Challenges  \n",
    "- deep learning algorithms are highly data-demanding\n",
    "- Currently there no large open-source Raman spectroscopic dataset exists to pre-train DL models for transfer learning\n",
    "- The generalisation ability of the trained models is questionable, because a model that performs quite well on one dataset might produce disappointing results on another dataset due to overfitting."
   ]
  },
  {
   "cell_type": "markdown",
   "id": "350803ae",
   "metadata": {},
   "source": [
    "## Conclusion\n",
    "Deep learning models, such as CNNs, ResNets, autoencoders, GANs, RNNs, etc, which were introduced in this contribution.\n",
    "We grouped the applications of these models into four major Raman spectroscopic application scenarios where these models are usually implemented: pre-processing, classification, regression, and (spectral) segmentation. The two most common applications are pre-processing and classification, and the least common application is Raman spectral segmentation/variable highlighting.\n"
   ]
  },
  {
   "cell_type": "code",
   "execution_count": null,
   "id": "78d415e9",
   "metadata": {},
   "outputs": [],
   "source": []
  },
  {
   "cell_type": "code",
   "execution_count": null,
   "id": "3964ff9f",
   "metadata": {},
   "outputs": [],
   "source": []
  },
  {
   "cell_type": "code",
   "execution_count": null,
   "id": "b2b47637",
   "metadata": {},
   "outputs": [],
   "source": []
  },
  {
   "cell_type": "code",
   "execution_count": null,
   "id": "f230e10e",
   "metadata": {},
   "outputs": [],
   "source": []
  }
 ],
 "metadata": {
  "kernelspec": {
   "display_name": "Python 3 (ipykernel)",
   "language": "python",
   "name": "python3"
  },
  "language_info": {
   "codemirror_mode": {
    "name": "ipython",
    "version": 3
   },
   "file_extension": ".py",
   "mimetype": "text/x-python",
   "name": "python",
   "nbconvert_exporter": "python",
   "pygments_lexer": "ipython3",
   "version": "3.9.13"
  }
 },
 "nbformat": 4,
 "nbformat_minor": 5
}
