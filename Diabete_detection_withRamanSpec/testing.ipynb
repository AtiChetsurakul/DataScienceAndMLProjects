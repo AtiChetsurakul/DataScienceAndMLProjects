{
 "cells": [
  {
   "cell_type": "code",
   "execution_count": 9,
   "metadata": {},
   "outputs": [],
   "source": [
    "import matplotlib.pyplot as plt \n",
    "import pandas as pd\n",
    "import numpy as np\n",
    "from sklearn.model_selection import train_test_split\n",
    "from BaselineRemoval import BaselineRemoval\n",
    "from sklearn.preprocessing import MinMaxScaler, StandardScaler\n",
    "\n",
    "import torch\n",
    "from torch.utils.data import TensorDataset\n",
    "import torch\n",
    "from torch import nn\n",
    "import sys\n",
    "from sklearn.preprocessing import MinMaxScaler, StandardScaler\n",
    "# from torch.utils.data import TensorDataset\n"
   ]
  },
  {
   "cell_type": "code",
   "execution_count": 10,
   "metadata": {},
   "outputs": [],
   "source": [
    "DATALABEL = ['ear lobe','inner arm','thumb nail','median cubital vein']\n",
    "WATCH_PROB_PREDICT = False ## if you want to observe the probability of each choice\n",
    "PLT = '/root/projects/ProjectAug22/CP/Diabete_detection_withRamanSpec/dataset/' ## change to the path to dataset\n",
    "PLT_mac = '/Volumes/ExternalSSDForMac/AITLecture/CSforDSAIAUG22/_CP_project/DataScienceAndMLProjects/Diabete_detection_withRamanSpec/dataset'\n",
    "\n",
    "SMOOTH = False\n",
    "\n",
    "SEED = 25811243\n",
    "\n"
   ]
  },
  {
   "cell_type": "code",
   "execution_count": 11,
   "metadata": {},
   "outputs": [],
   "source": [
    "from src import spectrumloader as spl\n",
    "from src import get_torch_loader as tlg\n",
    "# from src.modeltorch_template import NeuralNet,RamConv1d,RamLSTM,RamConv1d_bnmx,IntANN,IntRamLSTM,RamConv1d_mx\n",
    "from src import trainResult_show as mtp"
   ]
  },
  {
   "cell_type": "code",
   "execution_count": 19,
   "metadata": {},
   "outputs": [
    {
     "name": "stdout",
     "output_type": "stream",
     "text": [
      "4\n"
     ]
    }
   ],
   "source": [
    "print(len(y_test0))"
   ]
  },
  {
   "cell_type": "code",
   "execution_count": 18,
   "metadata": {},
   "outputs": [],
   "source": [
    "standard,data_all = spl.read_file('dataset/')\n",
    "Xs,ys,_ = spl.cut_tonumpy(data_all)\n",
    "assert len(Xs) == 4, 'DATA error'\n",
    "\n",
    "_,X_testall,_,y_testall = spl.split_train_test(Xs,ys)\n",
    "X_test_VR = spl.fluoresence_removal(X_testall)\n",
    "X_test0_std,X_test1_std,X_test2_std,X_test3_std,normalizer2 = spl.seting_normalized_fuoresence_smoothing(True,True,X_test_VR)\n",
    "\n",
    "assert len(normalizer2) == 4, 'Normalizer is not here'\n",
    "\n",
    "y_test0,y_test1,y_test2,y_test3 = y_testall\n",
    "\n",
    "ds_test_earloop = TensorDataset(torch.FloatTensor(X_test0_std),torch.LongTensor(y_test0))\n",
    "ds_test_inarm = TensorDataset(torch.FloatTensor(X_test1_std),torch.LongTensor(y_test1))\n",
    "ds_test_thumbnail = TensorDataset(torch.FloatTensor(X_test2_std),torch.LongTensor(y_test2))\n",
    "ds_test_vain = TensorDataset(torch.FloatTensor(X_test3_std),torch.LongTensor(y_test3))\n",
    "batch_size =4 \n",
    "\n",
    "test_loader0 = torch.utils.data.DataLoader(dataset=ds_test_earloop,batch_size=batch_size,shuffle=True)\n",
    "test_loader1 = torch.utils.data.DataLoader(dataset=ds_test_inarm,batch_size=batch_size,shuffle=True)\n",
    "test_loader2 = torch.utils.data.DataLoader(dataset=ds_test_thumbnail,batch_size=batch_size,shuffle=True)\n",
    "test_loader3 = torch.utils.data.DataLoader(dataset=ds_test_vain,batch_size=batch_size,shuffle=True)\n",
    "\n",
    "\n",
    "test_loader_all = [test_loader0,test_loader1,test_loader2,test_loader3]\n",
    "\n",
    "device = torch.device('cuda' if torch.cuda.is_available() else 'cpu')\n",
    "with torch.no_grad():\n",
    "    for each_loc_test, each_loc_model in zip(test_loader_all,\"LISTOFMODEL\"):\n",
    "        correct = 0\n",
    "        for i, (spec, y) in enumerate(each_loc_test):  \n",
    "\n",
    "            spec = spec.to(device)\n",
    "            y_test = y.to(device)\n",
    "\n",
    "            y_hat = each_loc_model(spec)\n",
    "            predicted = torch.max(y_hat,1)[1]\n",
    "            correct += (predicted == y_test).sum()\n",
    "        print(f'Test accuracy: {correct.item()}/{len(y_test0)} = {correct.item()*100/(len(y_test0)):7.3f}%')\n",
    "\n",
    "# if SMOOTH:\n",
    "#     X_test_VR = spl.savitzky_smooth(X_test_VR)"
   ]
  },
  {
   "cell_type": "code",
   "execution_count": 13,
   "metadata": {},
   "outputs": [],
   "source": [
    "# X_trainall,X_testall,y_trainall,y_testall = spl.split_train_test(Xs,ys)\n",
    "# y_train0,y_train1,y_train2,y_train3 = y_trainall"
   ]
  },
  {
   "cell_type": "code",
   "execution_count": 14,
   "metadata": {},
   "outputs": [],
   "source": [
    "# X_train_VR = spl.fluoresence_removal(X_trainall)\n",
    "# if SMOOTH:\n",
    "#     X_train_VR = spl.savitzky_smooth(X_train_VR)"
   ]
  },
  {
   "cell_type": "code",
   "execution_count": 15,
   "metadata": {},
   "outputs": [],
   "source": [
    "X_test_VR = spl.fluoresence_removal(X_testall)\n",
    "if SMOOTH:\n",
    "    X_test_VR = spl.savitzky_smooth(X_test_VR)"
   ]
  },
  {
   "cell_type": "code",
   "execution_count": 16,
   "metadata": {},
   "outputs": [],
   "source": [
    "# X_train0_std,X_train1_std,X_train2_std,X_train3_std,normalizer = spl.seting_normalized_fuoresence_smoothing(True,True,X_train_VR)\n",
    "\n",
    "\n",
    "# X_test0_std,X_test1_std,X_test2_std,X_test3_std,normalizer2 = spl.seting_normalized_fuoresence_smoothing(True,True,X_test_VR)\n",
    "\n",
    "\n",
    "# assert len(normalizer) == 4, 'Normalizer is not here'"
   ]
  },
  {
   "cell_type": "code",
   "execution_count": 17,
   "metadata": {},
   "outputs": [],
   "source": [
    "y_test0,y_test1,y_test2,y_test3 = y_testall"
   ]
  },
  {
   "cell_type": "code",
   "execution_count": null,
   "metadata": {},
   "outputs": [],
   "source": []
  }
 ],
 "metadata": {
  "kernelspec": {
   "display_name": "Python 3.9.7 ('ai50')",
   "language": "python",
   "name": "python3"
  },
  "language_info": {
   "codemirror_mode": {
    "name": "ipython",
    "version": 3
   },
   "file_extension": ".py",
   "mimetype": "text/x-python",
   "name": "python",
   "nbconvert_exporter": "python",
   "pygments_lexer": "ipython3",
   "version": "3.9.7"
  },
  "orig_nbformat": 4,
  "vscode": {
   "interpreter": {
    "hash": "da867d72de60a3e86a2b69a9a7baea090d67382d01a73f765a7401ae7e7cc0f6"
   }
  }
 },
 "nbformat": 4,
 "nbformat_minor": 2
}
