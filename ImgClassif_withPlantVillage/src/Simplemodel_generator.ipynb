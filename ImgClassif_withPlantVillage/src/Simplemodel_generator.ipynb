{
 "cells": [
  {
   "cell_type": "code",
   "execution_count": 1,
   "metadata": {},
   "outputs": [],
   "source": [
    "import pickle\n",
    "import numpy as np\n",
    "import matplotlib.pyplot as plt\n",
    "from sklearn.model_selection import train_test_split\n"
   ]
  },
  {
   "cell_type": "markdown",
   "metadata": {},
   "source": [
    "# This python file are made for trying to generate simple to model with deep learning.\n",
    "- To learning and playing some the plant img dataset"
   ]
  },
  {
   "cell_type": "code",
   "execution_count": 2,
   "metadata": {},
   "outputs": [],
   "source": [
    "with open('train_64_nparray.atikeep', 'rb') as handle:\n",
    "    X,y = pickle.load(handle)"
   ]
  },
  {
   "cell_type": "code",
   "execution_count": 3,
   "metadata": {},
   "outputs": [
    {
     "data": {
      "text/plain": [
       "(43040, 64, 64, 3)"
      ]
     },
     "execution_count": 3,
     "metadata": {},
     "output_type": "execute_result"
    }
   ],
   "source": [
    "X.shape"
   ]
  },
  {
   "cell_type": "code",
   "execution_count": 4,
   "metadata": {},
   "outputs": [
    {
     "data": {
      "text/plain": [
       "((43040,),\n",
       " array(['Apple___Apple_scab', 'Apple___Black_rot',\n",
       "        'Apple___Cedar_apple_rust', 'Apple___healthy',\n",
       "        'Background_without_leaves', 'Blueberry___healthy',\n",
       "        'Cherry___Powdery_mildew', 'Cherry___healthy',\n",
       "        'Corn___Cercospora_leaf_spot_Gray_leaf_spot', 'Corn___Common_rust',\n",
       "        'Corn___Northern_Leaf_Blight', 'Corn___healthy',\n",
       "        'Grape___Black_rot', 'Grape___Esca_(Black_Measles)',\n",
       "        'Grape___Leaf_blight_(Isariopsis_Leaf_Spot)', 'Grape___healthy',\n",
       "        'Orange___Haunglongbing_(Citrus_greening)',\n",
       "        'Peach___Bacterial_spot', 'Peach___healthy',\n",
       "        'Pepper,_bell___Bacterial_spot', 'Pepper,_bell___healthy',\n",
       "        'Potato___Early_blight', 'Potato___Late_blight',\n",
       "        'Potato___healthy', 'Raspberry___healthy', 'Soybean___healthy',\n",
       "        'Squash___Powdery_mildew', 'Strawberry___Leaf_scorch',\n",
       "        'Strawberry___healthy', 'Tomato___Bacterial_spot',\n",
       "        'Tomato___Early_blight', 'Tomato___Late_blight',\n",
       "        'Tomato___Leaf_Mold', 'Tomato___Septoria_leaf_spot',\n",
       "        'Tomato___Spider_mites_Two-spotted_spider_mite',\n",
       "        'Tomato___Target_Spot', 'Tomato___Tomato_Yellow_Leaf_Curl_Virus',\n",
       "        'Tomato___Tomato_mosaic_virus', 'Tomato___healthy'], dtype='<U45'))"
      ]
     },
     "execution_count": 4,
     "metadata": {},
     "output_type": "execute_result"
    }
   ],
   "source": [
    "y.shape,np.unique(y)\n"
   ]
  },
  {
   "cell_type": "code",
   "execution_count": 5,
   "metadata": {},
   "outputs": [],
   "source": [
    "# for i in np.unique(y):\n",
    "#     print(i)"
   ]
  },
  {
   "cell_type": "code",
   "execution_count": 6,
   "metadata": {},
   "outputs": [],
   "source": [
    "healthy_tomato_idx = np.where(y == 'Tomato___healthy')\n",
    "healthy_stwy_idx = np.where(y == 'Strawberry___healthy')\n",
    "blackground_idx = np.where(y=='Background_without_leaves')"
   ]
  },
  {
   "cell_type": "code",
   "execution_count": 7,
   "metadata": {},
   "outputs": [],
   "source": [
    "X_tomato = X[healthy_tomato_idx]\n",
    "X_stwy = X[healthy_stwy_idx]\n",
    "X_bg = X[blackground_idx]\n"
   ]
  },
  {
   "cell_type": "markdown",
   "metadata": {},
   "source": [
    "# OBJECTIVE\n",
    "- to build simple light weight model with saved `pickle` file.\n",
    "- try to use deep learning."
   ]
  },
  {
   "cell_type": "code",
   "execution_count": 8,
   "metadata": {},
   "outputs": [
    {
     "data": {
      "text/plain": [
       "((814, 64, 64, 3), (690, 64, 64, 3), (1101, 64, 64, 3))"
      ]
     },
     "execution_count": 8,
     "metadata": {},
     "output_type": "execute_result"
    }
   ],
   "source": [
    "X_bg.shape,X_stwy.shape,X_tomato.shape"
   ]
  },
  {
   "cell_type": "code",
   "execution_count": 9,
   "metadata": {},
   "outputs": [],
   "source": [
    "X_bg_100 = X_bg[:800]\n",
    "X_stwy_100 = X_stwy[:500]\n",
    "X_tom_100 = X_tomato[:1100]"
   ]
  },
  {
   "cell_type": "code",
   "execution_count": 10,
   "metadata": {},
   "outputs": [],
   "source": [
    "y_bst0 = np.zeros((800,1))\n",
    "y_bst1 = np.ones((500,1))\n",
    "y_bst2 = np.ones((1100,1)) + 1\n",
    "y_bst = np.concatenate((y_bst0,y_bst1,y_bst2))\n",
    "X_bst = np.concatenate((X_bg_100,X_stwy_100,X_tom_100))\n"
   ]
  },
  {
   "cell_type": "code",
   "execution_count": 11,
   "metadata": {},
   "outputs": [
    {
     "data": {
      "text/plain": [
       "(2400, 1)"
      ]
     },
     "execution_count": 11,
     "metadata": {},
     "output_type": "execute_result"
    }
   ],
   "source": [
    "y_bst.shape"
   ]
  },
  {
   "cell_type": "code",
   "execution_count": 12,
   "metadata": {},
   "outputs": [
    {
     "data": {
      "text/plain": [
       "<matplotlib.image.AxesImage at 0x7feb2ce0b6a0>"
      ]
     },
     "execution_count": 12,
     "metadata": {},
     "output_type": "execute_result"
    },
    {
     "data": {
      "image/png": "[encoded data removed]",
      "text/plain": [
       "<Figure size 432x288 with 1 Axes>"
      ]
     },
     "metadata": {
      "needs_background": "light"
     },
     "output_type": "display_data"
    }
   ],
   "source": [
    "plt.imshow(X_bg[0])\n"
   ]
  },
  {
   "cell_type": "markdown",
   "metadata": {},
   "source": [
    "### just checking for accurate of image loading"
   ]
  },
  {
   "cell_type": "code",
   "execution_count": 13,
   "metadata": {},
   "outputs": [],
   "source": [
    "import tensorflow as tf\n",
    "import simple_tf_model as simmodelgen\n",
    "import sys"
   ]
  },
  {
   "cell_type": "code",
   "execution_count": 14,
   "metadata": {},
   "outputs": [],
   "source": [
    "#want to save?\n",
    "# SAVE = False\n",
    "SAVE = True\n",
    "file_name = 'simple_model_ati_result'"
   ]
  },
  {
   "cell_type": "code",
   "execution_count": 15,
   "metadata": {},
   "outputs": [
    {
     "name": "stdout",
     "output_type": "stream",
     "text": [
      "Epoch 1/20\n"
     ]
    },
    {
     "name": "stderr",
     "output_type": "stream",
     "text": [
      "2022-10-26 00:48:53.107644: I tensorflow/core/platform/cpu_feature_guard.cc:151] This TensorFlow binary is optimized with oneAPI Deep Neural Network Library (oneDNN) to use the following CPU instructions in performance-critical operations:  AVX2 FMA\n",
      "To enable them in other operations, rebuild TensorFlow with the appropriate compiler flags.\n"
     ]
    },
    {
     "name": "stdout",
     "output_type": "stream",
     "text": [
      "60/60 [==============================] - 3s 40ms/step - loss: 0.7284 - accuracy: 0.6260\n",
      "Epoch 2/20\n",
      "60/60 [==============================] - 2s 39ms/step - loss: 0.3933 - accuracy: 0.8141\n",
      "Epoch 3/20\n",
      "60/60 [==============================] - 2s 40ms/step - loss: 0.2741 - accuracy: 0.8682\n",
      "Epoch 4/20\n",
      "60/60 [==============================] - 3s 42ms/step - loss: 0.2848 - accuracy: 0.8464\n",
      "Epoch 5/20\n",
      "60/60 [==============================] - 3s 42ms/step - loss: 0.2662 - accuracy: 0.8583\n",
      "Epoch 6/20\n",
      "60/60 [==============================] - 3s 44ms/step - loss: 0.2567 - accuracy: 0.8656\n",
      "Epoch 7/20\n",
      "60/60 [==============================] - 3s 44ms/step - loss: 0.2447 - accuracy: 0.8703\n",
      "Epoch 8/20\n",
      "60/60 [==============================] - 3s 42ms/step - loss: 0.2213 - accuracy: 0.8740\n",
      "Epoch 9/20\n",
      "60/60 [==============================] - 3s 42ms/step - loss: 0.2353 - accuracy: 0.8656\n",
      "Epoch 10/20\n",
      "60/60 [==============================] - 3s 45ms/step - loss: 0.2135 - accuracy: 0.8687\n",
      "Epoch 11/20\n",
      "60/60 [==============================] - 3s 45ms/step - loss: 0.2091 - accuracy: 0.8818\n",
      "Epoch 12/20\n",
      "60/60 [==============================] - 3s 43ms/step - loss: 0.2018 - accuracy: 0.8807\n",
      "Epoch 13/20\n",
      "60/60 [==============================] - 3s 42ms/step - loss: 0.2069 - accuracy: 0.8786\n",
      "Epoch 14/20\n",
      "60/60 [==============================] - 3s 43ms/step - loss: 0.1852 - accuracy: 0.8792\n",
      "Epoch 15/20\n",
      "60/60 [==============================] - 3s 45ms/step - loss: 0.1995 - accuracy: 0.8865\n",
      "Epoch 16/20\n",
      "60/60 [==============================] - 3s 44ms/step - loss: 0.1872 - accuracy: 0.8833\n",
      "Epoch 17/20\n",
      "60/60 [==============================] - 3s 47ms/step - loss: 0.1814 - accuracy: 0.8802\n",
      "Epoch 18/20\n",
      "60/60 [==============================] - 3s 43ms/step - loss: 0.1952 - accuracy: 0.8844\n",
      "Epoch 19/20\n",
      "60/60 [==============================] - 3s 44ms/step - loss: 0.1714 - accuracy: 0.9057\n",
      "Epoch 20/20\n",
      "60/60 [==============================] - 3s 42ms/step - loss: 0.1873 - accuracy: 0.8771\n",
      "15/15 - 0s - loss: 0.0275 - accuracy: 0.9917 - 295ms/epoch - 20ms/step\n"
     ]
    },
    {
     "name": "stderr",
     "output_type": "stream",
     "text": [
      "2022-10-26 00:49:45.643949: W tensorflow/python/util/util.cc:368] Sets are not currently considered sequences, but this may change in the future, so consider avoiding using them.\n"
     ]
    },
    {
     "name": "stdout",
     "output_type": "stream",
     "text": [
      "INFO:tensorflow:Assets written to: simple_model_ati_result/assets\n",
      "Model saved to simple_model_ati_result.\n"
     ]
    }
   ],
   "source": [
    "y_bst_tf = tf.keras.utils.to_categorical(y_bst)\n",
    "x_train, x_test, y_train, y_test = train_test_split(X_bst  ,y_bst_tf , test_size=.2)\n",
    "\n",
    "# Get a compiled neural network\n",
    "model = simmodelgen.get_model_for_img(64,64,3)\n",
    "\n",
    "# Fit model on training data\n",
    "model.fit(x_train, y_train, epochs=20)\n",
    "\n",
    "# Evaluate neural network performance\n",
    "model.evaluate(x_test,  y_test, verbose=2)\n",
    "\n",
    "# Save model to file\n",
    "if SAVE:\n",
    "    filename = file_name\n",
    "    model.save(filename)\n",
    "    print(f\"Model saved to {filename}.\")"
   ]
  },
  {
   "cell_type": "code",
   "execution_count": 50,
   "metadata": {},
   "outputs": [
    {
     "data": {
      "text/plain": [
       "array([0., 1.], dtype=float32)"
      ]
     },
     "execution_count": 50,
     "metadata": {},
     "output_type": "execute_result"
    }
   ],
   "source": [
    "np.unique(y_bst_tf)\n",
    "# y_bst_tf"
   ]
  },
  {
   "cell_type": "code",
   "execution_count": 16,
   "metadata": {},
   "outputs": [
    {
     "data": {
      "text/plain": [
       "<matplotlib.image.AxesImage at 0x7feadfb3a460>"
      ]
     },
     "execution_count": 16,
     "metadata": {},
     "output_type": "execute_result"
    },
    {
     "data": {
      "image/png": "[encoded data removed]",
      "text/plain": [
       "<Figure size 432x288 with 1 Axes>"
      ]
     },
     "metadata": {
      "needs_background": "light"
     },
     "output_type": "display_data"
    }
   ],
   "source": [
    "plt.imshow(X_stwy_100[90])"
   ]
  },
  {
   "cell_type": "code",
   "execution_count": 17,
   "metadata": {},
   "outputs": [
    {
     "data": {
      "text/plain": [
       "<matplotlib.image.AxesImage at 0x7feaf7955f10>"
      ]
     },
     "execution_count": 17,
     "metadata": {},
     "output_type": "execute_result"
    },
    {
     "data": {
      "image/png": "[encoded data removed]",
      "text/plain": [
       "<Figure size 432x288 with 1 Axes>"
      ]
     },
     "metadata": {
      "needs_background": "light"
     },
     "output_type": "display_data"
    }
   ],
   "source": [
    "plt.imshow(X_tom_100[90])"
   ]
  },
  {
   "cell_type": "code",
   "execution_count": 18,
   "metadata": {},
   "outputs": [
    {
     "data": {
      "text/plain": [
       "<matplotlib.image.AxesImage at 0x7feadf7562e0>"
      ]
     },
     "execution_count": 18,
     "metadata": {},
     "output_type": "execute_result"
    },
    {
     "data": {
      "image/png": "[encoded data removed]",
      "text/plain": [
       "<Figure size 432x288 with 1 Axes>"
      ]
     },
     "metadata": {
      "needs_background": "light"
     },
     "output_type": "display_data"
    }
   ],
   "source": [
    "plt.imshow(X_bg_100[90])"
   ]
  },
  {
   "cell_type": "markdown",
   "metadata": {},
   "source": [
    "# Building Conclusion\n",
    "- The model was successfully build.\n",
    "- With small choose dataset the DL model are unable to predict with good acc.\n",
    "- but still we came at right direction. "
   ]
  },
  {
   "cell_type": "markdown",
   "metadata": {},
   "source": []
  }
 ],
 "metadata": {
  "kernelspec": {
   "display_name": "Python 3.9.7 ('ai50')",
   "language": "python",
   "name": "python3"
  },
  "language_info": {
   "codemirror_mode": {
    "name": "ipython",
    "version": 3
   },
   "file_extension": ".py",
   "mimetype": "text/x-python",
   "name": "python",
   "nbconvert_exporter": "python",
   "pygments_lexer": "ipython3",
   "version": "3.9.7"
  },
  "orig_nbformat": 4,
  "vscode": {
   "interpreter": {
    "hash": "da867d72de60a3e86a2b69a9a7baea090d67382d01a73f765a7401ae7e7cc0f6"
   }
  }
 },
 "nbformat": 4,
 "nbformat_minor": 2
}
