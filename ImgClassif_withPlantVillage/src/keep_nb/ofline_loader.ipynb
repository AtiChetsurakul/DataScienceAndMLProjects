{
 "cells": [
  {
   "cell_type": "code",
   "execution_count": 1,
   "metadata": {},
   "outputs": [],
   "source": [
    "import pickle\n",
    "import numpy as np"
   ]
  },
  {
   "cell_type": "markdown",
   "metadata": {},
   "source": [
    "## This pickle was made by using `picture_retrival.py` with function `read_pic_from_path(path)`\n",
    "\n",
    "### warning every file you load need to be with out any **space**\n",
    "\n",
    "``` bash\n",
    "for oldname in *\n",
    "do\n",
    "  newname=`echo $oldname | sed -e 's/ /_/g'`\n",
    "  mv \"$oldname\" \"$newname\"\n",
    "done\n",
    "```\n",
    "\n",
    "> write in advance, I use above bash script to rename all file"
   ]
  },
  {
   "cell_type": "code",
   "execution_count": 2,
   "metadata": {},
   "outputs": [],
   "source": [
    "LOADED = False\n",
    "if LOADED:\n",
    "    pickle_in = open('/Volumes/ExternalSSDForMac/AITLecture/CSforDSAIAUG22/_project_cp_22/plant_village_img_cls/leavesVillagePickle.atikeep','rb')\n",
    "\n",
    "    tupletest = pickle.load(pickle_in)\n",
    "\n"
   ]
  },
  {
   "cell_type": "code",
   "execution_count": 3,
   "metadata": {},
   "outputs": [],
   "source": [
    "if LOADED:\n",
    "    tupletest[0][0].shape\n",
    "# 256,256,3"
   ]
  },
  {
   "cell_type": "markdown",
   "metadata": {},
   "source": [
    "### Great Greate Anakin Greate haha "
   ]
  },
  {
   "cell_type": "code",
   "execution_count": 4,
   "metadata": {},
   "outputs": [],
   "source": [
    "# X_list,y_list = tupletest"
   ]
  },
  {
   "cell_type": "code",
   "execution_count": 5,
   "metadata": {},
   "outputs": [
    {
     "data": {
      "text/plain": [
       "array(['Apple___Apple_scab', 'Apple___Black_rot',\n",
       "       'Apple___Cedar_apple_rust', 'Apple___healthy',\n",
       "       'Background_without_leaves', 'Blueberry___healthy',\n",
       "       'Cherry___Powdery_mildew', 'Cherry___healthy',\n",
       "       'Corn___Cercospora_leaf_spot_Gray_leaf_spot', 'Corn___Common_rust',\n",
       "       'Corn___Northern_Leaf_Blight', 'Corn___healthy',\n",
       "       'Grape___Black_rot', 'Grape___Esca_(Black_Measles)',\n",
       "       'Grape___Leaf_blight_(Isariopsis_Leaf_Spot)', 'Grape___healthy',\n",
       "       'Orange___Haunglongbing_(Citrus_greening)',\n",
       "       'Peach___Bacterial_spot', 'Peach___healthy',\n",
       "       'Pepper,_bell___Bacterial_spot', 'Pepper,_bell___healthy',\n",
       "       'Potato___Early_blight', 'Potato___Late_blight',\n",
       "       'Potato___healthy', 'Raspberry___healthy', 'Soybean___healthy',\n",
       "       'Squash___Powdery_mildew', 'Strawberry___Leaf_scorch',\n",
       "       'Strawberry___healthy', 'Tomato___Bacterial_spot',\n",
       "       'Tomato___Early_blight', 'Tomato___Late_blight',\n",
       "       'Tomato___Leaf_Mold', 'Tomato___Septoria_leaf_spot',\n",
       "       'Tomato___Spider_mites_Two-spotted_spider_mite',\n",
       "       'Tomato___Target_Spot', 'Tomato___Tomato_Yellow_Leaf_Curl_Virus',\n",
       "       'Tomato___Tomato_mosaic_virus', 'Tomato___healthy'], dtype='<U45')"
      ]
     },
     "execution_count": 5,
     "metadata": {},
     "output_type": "execute_result"
    }
   ],
   "source": [
    "# y = np.array(y_list)\n",
    "# np.unique(y)"
   ]
  },
  {
   "cell_type": "code",
   "execution_count": 6,
   "metadata": {},
   "outputs": [
    {
     "data": {
      "text/plain": [
       "(61486,)"
      ]
     },
     "execution_count": 6,
     "metadata": {},
     "output_type": "execute_result"
    }
   ],
   "source": [
    "# y.shape"
   ]
  },
  {
   "cell_type": "code",
   "execution_count": 7,
   "metadata": {},
   "outputs": [
    {
     "data": {
      "text/plain": [
       "61486"
      ]
     },
     "execution_count": 7,
     "metadata": {},
     "output_type": "execute_result"
    }
   ],
   "source": [
    "# len(X_list)"
   ]
  },
  {
   "cell_type": "code",
   "execution_count": 8,
   "metadata": {},
   "outputs": [
    {
     "data": {
      "text/plain": [
       "(256, 256, 3)"
      ]
     },
     "execution_count": 8,
     "metadata": {},
     "output_type": "execute_result"
    }
   ],
   "source": [
    "# X_list[0].shape"
   ]
  },
  {
   "cell_type": "code",
   "execution_count": 9,
   "metadata": {},
   "outputs": [
    {
     "data": {
      "text/plain": [
       "(204, 204, 3)"
      ]
     },
     "execution_count": 9,
     "metadata": {},
     "output_type": "execute_result"
    }
   ],
   "source": [
    "# X_list[1].shape"
   ]
  },
  {
   "cell_type": "markdown",
   "metadata": {},
   "source": [
    "### Seem like my data loading work just fine\n",
    "\n",
    "# TODO\n",
    "- maybe crop the data to be the same size since it now work properly with `numpy array` since the shape is missmatch\n",
    "- try to use deep lake to lode data since it more portable there\n",
    "- study `torch` more \n"
   ]
  },
  {
   "cell_type": "markdown",
   "metadata": {},
   "source": [
    "### LAb to day try img at home at 64* 64 size img"
   ]
  },
  {
   "cell_type": "code",
   "execution_count": 24,
   "metadata": {},
   "outputs": [],
   "source": [
    "import cv2\n",
    "import matplotlib.pyplot as plt"
   ]
  },
  {
   "cell_type": "code",
   "execution_count": 13,
   "metadata": {},
   "outputs": [],
   "source": [
    "HEGIHT_IMG = 64\n",
    "WEIGHT_IMG = 64"
   ]
  },
  {
   "cell_type": "code",
   "execution_count": 18,
   "metadata": {},
   "outputs": [],
   "source": [
    "def batch_img_cropper(list_of_img,label_each_img,h,w):\n",
    "    X_list_resize = []\n",
    "    y_list_counter = []\n",
    "    for img,label in zip(list_of_img,label_each_img):\n",
    "        img_res = cv2.resize(img,(h,w))\n",
    "        if img_res is not None:\n",
    "            X_list_resize.append(img_res)\n",
    "            y_list_counter.append(label)\n",
    "    if len(X_list_resize) == len(y_list_counter):\n",
    "        return (X_list_resize,y_list_counter)\n",
    "\n",
    "    "
   ]
  },
  {
   "cell_type": "code",
   "execution_count": 19,
   "metadata": {},
   "outputs": [],
   "source": [
    "# X_list_64,y_list_64 = batch_img_cropper(X_list,y_list,HEGIHT_IMG,WEIGHT_IMG)"
   ]
  },
  {
   "cell_type": "code",
   "execution_count": 20,
   "metadata": {},
   "outputs": [
    {
     "data": {
      "text/plain": [
       "(64, 64, 3)"
      ]
     },
     "execution_count": 20,
     "metadata": {},
     "output_type": "execute_result"
    }
   ],
   "source": [
    "# X_list_64[0].shape"
   ]
  },
  {
   "cell_type": "code",
   "execution_count": 21,
   "metadata": {},
   "outputs": [
    {
     "data": {
      "text/plain": [
       "61486"
      ]
     },
     "execution_count": 21,
     "metadata": {},
     "output_type": "execute_result"
    }
   ],
   "source": [
    "# len(X_list_64)"
   ]
  },
  {
   "cell_type": "code",
   "execution_count": 22,
   "metadata": {},
   "outputs": [],
   "source": [
    "# X_array_64 = np.array(X_list_64) "
   ]
  },
  {
   "cell_type": "code",
   "execution_count": 27,
   "metadata": {},
   "outputs": [
    {
     "data": {
      "text/plain": [
       "(numpy.ndarray, (61486, 64, 64, 3))"
      ]
     },
     "execution_count": 27,
     "metadata": {},
     "output_type": "execute_result"
    }
   ],
   "source": [
    "# y_array_64 = np.array(y_list_64)\n",
    "# type(X_array_64),X_array_64.shape"
   ]
  },
  {
   "cell_type": "code",
   "execution_count": 32,
   "metadata": {},
   "outputs": [
    {
     "data": {
      "image/png": "[encoded data removed]",
      "text/plain": [
       "<Figure size 432x288 with 1 Axes>"
      ]
     },
     "metadata": {
      "needs_background": "light"
     },
     "output_type": "display_data"
    },
    {
     "name": "stdout",
     "output_type": "stream",
     "text": [
      "['Strawberry___healthy' 'Strawberry___healthy' 'Strawberry___healthy' ...\n",
      " 'Soybean___healthy' 'Soybean___healthy' 'Soybean___healthy']\n"
     ]
    }
   ],
   "source": [
    "plt.imshow(X_array_64[0],interpolation='nearest')\n",
    "plt.show()\n",
    "print(y_array_64)"
   ]
  },
  {
   "cell_type": "markdown",
   "metadata": {},
   "source": [
    "### thus, now we have X_array_64 and y_array_64\n",
    "### we are going to save this as pickle and split for train and **REAL TEST** dataset"
   ]
  },
  {
   "cell_type": "code",
   "execution_count": 30,
   "metadata": {},
   "outputs": [
    {
     "data": {
      "text/plain": [
       "(61486, 64, 64, 3)"
      ]
     },
     "execution_count": 30,
     "metadata": {},
     "output_type": "execute_result"
    }
   ],
   "source": [
    "# to_dump_64 = (X_array_64,y_array_64) \n",
    "# with open('data_img_64_nparray.atikeep', 'wb') as handle:\n",
    "#     pickle.dump(to_dump_64, handle)\n",
    "\n",
    "# with open('data_img_64_nparray.atikeep', 'rb') as handle:\n",
    "#     to_check = pickle.load(handle)\n",
    "\n",
    "# to_check[0].shape\n",
    "\n"
   ]
  },
  {
   "cell_type": "code",
   "execution_count": 40,
   "metadata": {},
   "outputs": [],
   "source": [
    "with open('data_img_64_nparray.atikeep', 'rb') as handle:\n",
    "    X_arr_64,y_arr_64 = pickle.load(handle)"
   ]
  },
  {
   "cell_type": "code",
   "execution_count": 41,
   "metadata": {},
   "outputs": [],
   "source": [
    "from sklearn.model_selection import train_test_split"
   ]
  },
  {
   "cell_type": "code",
   "execution_count": 42,
   "metadata": {},
   "outputs": [],
   "source": [
    "RANDOM_STATE = 112"
   ]
  },
  {
   "cell_type": "code",
   "execution_count": 43,
   "metadata": {},
   "outputs": [],
   "source": [
    "X_train, X_test, y_train, y_test = train_test_split(X_arr_64, y_arr_64, test_size=0.30, random_state=112)\n"
   ]
  },
  {
   "cell_type": "code",
   "execution_count": 44,
   "metadata": {},
   "outputs": [],
   "source": [
    "with open('test_only_64_nparray.atikeep', 'wb') as handle:\n",
    "    pickle.dump((X_test,y_test), handle)"
   ]
  },
  {
   "cell_type": "code",
   "execution_count": 45,
   "metadata": {},
   "outputs": [],
   "source": [
    "with open('train_64_nparray.atikeep', 'wb') as handle:\n",
    "    pickle.dump((X_train,y_train), handle)"
   ]
  },
  {
   "cell_type": "code",
   "execution_count": 46,
   "metadata": {},
   "outputs": [
    {
     "data": {
      "text/plain": [
       "(43040, 64, 64, 3)"
      ]
     },
     "execution_count": 46,
     "metadata": {},
     "output_type": "execute_result"
    }
   ],
   "source": [
    "X_train.shape"
   ]
  },
  {
   "cell_type": "code",
   "execution_count": 47,
   "metadata": {},
   "outputs": [
    {
     "data": {
      "text/plain": [
       "(43040,)"
      ]
     },
     "execution_count": 47,
     "metadata": {},
     "output_type": "execute_result"
    }
   ],
   "source": [
    "y_train.shape"
   ]
  },
  {
   "cell_type": "code",
   "execution_count": null,
   "metadata": {},
   "outputs": [],
   "source": []
  }
 ],
 "metadata": {
  "kernelspec": {
   "display_name": "Python 3.9.7 ('ai50')",
   "language": "python",
   "name": "python3"
  },
  "language_info": {
   "codemirror_mode": {
    "name": "ipython",
    "version": 3
   },
   "file_extension": ".py",
   "mimetype": "text/x-python",
   "name": "python",
   "nbconvert_exporter": "python",
   "pygments_lexer": "ipython3",
   "version": "3.9.7"
  },
  "orig_nbformat": 4,
  "vscode": {
   "interpreter": {
    "hash": "da867d72de60a3e86a2b69a9a7baea090d67382d01a73f765a7401ae7e7cc0f6"
   }
  }
 },
 "nbformat": 4,
 "nbformat_minor": 2
}
