{
 "cells": [
  {
   "cell_type": "code",
   "execution_count": 44,
   "metadata": {},
   "outputs": [],
   "source": [
    "from scipy.io import loadmat"
   ]
  },
  {
   "cell_type": "code",
   "execution_count": 45,
   "metadata": {},
   "outputs": [],
   "source": [
    "data = loadmat('/Volumes/ExternalSSDForMac/AITLecture/CSforDSAIAUG22/_project_cp_22/porkfat_raman/RAMANPorkFat.mat')"
   ]
  },
  {
   "cell_type": "code",
   "execution_count": 46,
   "metadata": {},
   "outputs": [
    {
     "data": {
      "text/plain": [
       "dict_keys(['__header__', '__version__', '__globals__', 'X', 'Y'])"
      ]
     },
     "execution_count": 46,
     "metadata": {},
     "output_type": "execute_result"
    }
   ],
   "source": [
    "data.keys()"
   ]
  },
  {
   "cell_type": "code",
   "execution_count": 48,
   "metadata": {},
   "outputs": [
    {
     "data": {
      "text/plain": [
       "b'MATLAB 5.0 MAT-file, Platform: PCWIN, Created on: Tue Mar 08 15:31:52 2011'"
      ]
     },
     "execution_count": 48,
     "metadata": {},
     "output_type": "execute_result"
    }
   ],
   "source": [
    "data['__header__']"
   ]
  },
  {
   "cell_type": "code",
   "execution_count": 49,
   "metadata": {},
   "outputs": [
    {
     "data": {
      "text/plain": [
       "('1.0', [])"
      ]
     },
     "execution_count": 49,
     "metadata": {},
     "output_type": "execute_result"
    }
   ],
   "source": [
    "data['__version__'],data['__globals__']"
   ]
  },
  {
   "cell_type": "code",
   "execution_count": 20,
   "metadata": {},
   "outputs": [
    {
     "data": {
      "text/plain": [
       "(1, 1)"
      ]
     },
     "execution_count": 20,
     "metadata": {},
     "output_type": "execute_result"
    }
   ],
   "source": [
    "data['X'].shape"
   ]
  },
  {
   "cell_type": "code",
   "execution_count": 34,
   "metadata": {},
   "outputs": [
    {
     "data": {
      "text/plain": [
       "22"
      ]
     },
     "execution_count": 34,
     "metadata": {},
     "output_type": "execute_result"
    }
   ],
   "source": [
    "len(data['X'][0,0])"
   ]
  },
  {
   "cell_type": "code",
   "execution_count": 38,
   "metadata": {},
   "outputs": [
    {
     "name": "stdout",
     "output_type": "stream",
     "text": [
      "0                ['X1']\n",
      "\n",
      "1                ['data']\n",
      "\n",
      "2                []\n",
      "\n",
      "3                [[2011.       3.       8.      11.      53.      37.494]]\n",
      "\n",
      "4                [[2.011e+03 3.000e+00 8.000e+00 1.400e+01 1.400e+01 4.790e-01]]\n",
      "\n"
     ]
    }
   ],
   "source": [
    "for i in range(5):\n",
    "    print(i ,end = '                ')\n",
    "    print(data['X'][0,0][i])\n",
    "    print()"
   ]
  },
  {
   "cell_type": "code",
   "execution_count": 40,
   "metadata": {},
   "outputs": [
    {
     "name": "stdout",
     "output_type": "stream",
     "text": [
      "5                []\n",
      "\n",
      "6                []\n",
      "\n",
      "7                [[3685.06439209 3693.70709229 3702.13592529 ...  113.61529922\n",
      "   113.88006783  114.34254265]\n",
      " [4159.31860352 4169.73669434 4180.10992432 ...  119.28887367\n",
      "   119.35161781  119.5807209 ]\n",
      " [3284.39300537 3292.49780273 3300.38482666 ...  103.78560257\n",
      "   104.02006721  104.40784836]\n",
      " ...\n",
      " [3019.21929932 3026.78656006 3034.10235596 ...   95.22135925\n",
      "    95.58770943   96.17024994]\n",
      " [3684.91821289 3693.53936768 3702.23773193 ...  104.74249649\n",
      "   105.03042603  105.58400726]\n",
      " [3134.18695068 3141.17230225 3148.10906982 ...  121.73610687\n",
      "   122.1330452   122.68470383]]\n",
      "\n",
      "8                [[array(['P57S03', 'P57S04', 'P57S05', 'P57S06', 'P57S07', 'P57S08',\n",
      "         'P57S09', 'P59S02', 'P59S04', 'P59S05', 'P59S06', 'P59S08',\n",
      "         'P59S09', 'P59S10', 'P59S11', 'P60S02', 'P60S03', 'P60S04',\n",
      "         'P60S05', 'P60S06', 'P60S07', 'P60S08', 'P62S02', 'P62S03',\n",
      "         'P62S04', 'P62S05', 'P64S02', 'P64S03', 'P64S04', 'P64S05',\n",
      "         'P64S07', 'P64S08', 'P64S09', 'P65S02', 'P65S03', 'P65S04',\n",
      "         'P65S05', 'P65S06', 'P65S07', 'P65S08', 'P68S02', 'P68S03',\n",
      "         'P68S04', 'P68S05', 'P68S06', 'P68S07', 'P68S08', 'P68S09',\n",
      "         'P68S10', 'P68S11', 'P68S12', 'P68S13', 'P70S02', 'P70S04',\n",
      "         'P70S05', 'P70S06', 'P70S07', 'P73S02', 'P73S03', 'P73S04',\n",
      "         'P73S05', 'P73S06', 'P74S02', 'P74S03', 'P74S04', 'P74S05',\n",
      "         'P74S06', 'P74S07', 'P75S02', 'P75S03', 'P75S04', 'P75S05',\n",
      "         'P75S06', 'P75S07', 'P76S02', 'P76S03', 'P76S04', 'P76S05',\n",
      "         'P78S03', 'P78S04', 'P78S05', 'P78S06', 'P78S07', 'P78S08',\n",
      "         'P78S09', 'P78S10', 'P78S11', 'P78S12', 'P80S02', 'P80S04',\n",
      "         'P80S05', 'P80S06', 'P85S02', 'P85S03', 'P85S04', 'P85S05',\n",
      "         'P85S06', 'P86S02', 'P86S03', 'P86S04', 'P86S05', 'P86S06',\n",
      "         'P86S07', 'P86S08', 'P86S09'], dtype='<U6')\n",
      "  array([], dtype='<U1')]\n",
      " [array([], dtype='<U1') array([], dtype='<U1')]]\n",
      "\n"
     ]
    }
   ],
   "source": [
    "for i in range(5,9,1):\n",
    "    print(i ,end = '                ')\n",
    "    print(data['X'][0,0][i])\n",
    "    print()"
   ]
  },
  {
   "cell_type": "code",
   "execution_count": 42,
   "metadata": {},
   "outputs": [
    {
     "name": "stdout",
     "output_type": "stream",
     "text": [
      "9                [[array([], shape=(0, 0), dtype=uint8) array([], dtype='<U1')]\n",
      " [array([[ 200.10000874,  200.40000875,  200.70000876, ..., 1899.30007626,\n",
      "          1899.60007627, 1899.90007628]])\n",
      "  array([], dtype='<U1')]]\n",
      "\n",
      "10                [[array([], shape=(0, 0), dtype=uint8)\n",
      "  array([], shape=(1, 0), dtype=float64)]\n",
      " [array([], shape=(0, 0), dtype=uint8)\n",
      "  array([], shape=(1, 0), dtype=float64)]]\n",
      "\n"
     ]
    }
   ],
   "source": [
    "for i in range(9,11,1):\n",
    "    print(i ,end = '                ')\n",
    "    print(data['X'][0,0][i])\n",
    "    print()"
   ]
  },
  {
   "cell_type": "code",
   "execution_count": 43,
   "metadata": {},
   "outputs": [
    {
     "name": "stdout",
     "output_type": "stream",
     "text": [
      "11                [[array([], dtype='<U1') array([], dtype='<U1')]\n",
      " [array([], dtype='<U1') array([], dtype='<U1')]]\n",
      "\n",
      "12                [[[array([[ 1,  1,  1,  1,  1,  1,  1,  2,  2,  2,  2,  2,  2,  2,  2,  3,\n",
      "            3,  3,  3,  3,  3,  3,  4,  4,  4,  4,  5,  5,  5,  5,  5,  5,\n",
      "            5,  6,  6,  6,  6,  6,  6,  6,  7,  7,  7,  7,  7,  7,  7,  7,\n",
      "            7,  7,  7,  7,  8,  8,  8,  8,  8,  9,  9,  9,  9,  9, 10, 10,\n",
      "           10, 10, 10, 10, 11, 11, 11, 11, 11, 11, 12, 12, 12, 12, 13, 13,\n",
      "           13, 13, 13, 13, 13, 13, 13, 13, 14, 14, 14, 14, 16, 16, 16, 16,\n",
      "           16, 17, 17, 17, 17, 17, 17, 17, 17]], dtype=uint8)\n",
      "   array([[ 3,  4,  5,  6,  7,  8,  9,  2,  4,  5,  6,  8,  9, 10, 11,  2,\n",
      "            3,  4,  5,  6,  7,  8,  2,  3,  4,  5,  2,  3,  4,  5,  7,  8,\n",
      "            9,  2,  3,  4,  5,  6,  7,  8,  2,  3,  4,  5,  6,  7,  8,  9,\n",
      "           10, 11, 12, 13,  2,  4,  5,  6,  7,  2,  3,  4,  5,  6,  2,  3,\n",
      "            4,  5,  6,  7,  2,  3,  4,  5,  6,  7,  2,  3,  4,  5,  3,  4,\n",
      "            5,  6,  7,  8,  9, 10, 11, 12,  2,  4,  5,  6,  2,  3,  4,  5,\n",
      "            6,  2,  3,  4,  5,  6,  7,  8,  9]], dtype=uint8)\n",
      "   array([[0, 0, 1, 1, 1, 1, 1, 0, 0, 0, 1, 1, 1, 1, 1, 0, 0, 0, 0, 0, 1, 1,\n",
      "           0, 0, 0, 1, 0, 0, 0, 1, 1, 1, 1, 0, 0, 0, 1, 1, 1, 1, 0, 0, 0, 0,\n",
      "           0, 0, 1, 1, 1, 1, 1, 1, 0, 0, 1, 1, 1, 0, 0, 1, 1, 1, 0, 0, 0, 1,\n",
      "           1, 1, 0, 0, 0, 0, 0, 1, 0, 0, 0, 1, 0, 0, 0, 0, 0, 0, 1, 1, 1, 1,\n",
      "           0, 0, 0, 1, 0, 0, 0, 0, 1, 0, 0, 0, 0, 1, 1, 1, 1]], dtype=uint8)]\n",
      "  [array([], dtype='<U1') array([], dtype='<U1') array([], dtype='<U1')]]\n",
      "\n",
      " [[array([], shape=(0, 0), dtype=uint8)\n",
      "   array([], shape=(1, 0), dtype=float64)\n",
      "   array([], shape=(1, 0), dtype=float64)]\n",
      "  [array([], dtype='<U1') array([], dtype='<U1') array([], dtype='<U1')]]]\n",
      "\n",
      "13                [[array([[  1,   2,   3,   4,   5,   6,   7,   8,   9,  10,  11,  12,  13,\n",
      "           14,  15,  16,  17,  18,  19,  20,  21,  22,  23,  24,  25,  26,\n",
      "           27,  28,  29,  30,  31,  32,  33,  34,  35,  36,  37,  38,  39,\n",
      "           40,  41,  42,  43,  44,  45,  46,  47,  48,  49,  50,  51,  52,\n",
      "           53,  54,  55,  56,  57,  58,  59,  60,  61,  62,  63,  64,  65,\n",
      "           66,  67,  68,  69,  70,  71,  72,  73,  74,  75,  76,  77,  78,\n",
      "           79,  80,  81,  82,  83,  84,  85,  86,  87,  88,  89,  90,  91,\n",
      "           92,  93,  94,  95,  96,  97,  98,  99, 100, 101, 102, 103, 104,\n",
      "          105]], dtype=uint8)\n",
      "  array([], shape=(0, 0), dtype=uint8)]\n",
      " [array([[   1,    2,    3, ..., 5665, 5666, 5667]], dtype=uint16)\n",
      "  array([], shape=(0, 0), dtype=uint8)]]\n",
      "\n",
      "14                [[array([[array([[1]], dtype=uint8), array(['Class 1'], dtype='<U7')],\n",
      "         [array([[2]], dtype=uint8), array(['Class 2'], dtype='<U7')],\n",
      "         [array([[3]], dtype=uint8), array(['Class 3'], dtype='<U7')],\n",
      "         [array([[4]], dtype=uint8), array(['Class 4'], dtype='<U7')],\n",
      "         [array([[5]], dtype=uint8), array(['Class 5'], dtype='<U7')],\n",
      "         [array([[6]], dtype=uint8), array(['Class 6'], dtype='<U7')],\n",
      "         [array([[7]], dtype=uint8), array(['Class 7'], dtype='<U7')],\n",
      "         [array([[8]], dtype=uint8), array(['Class 8'], dtype='<U7')],\n",
      "         [array([[9]], dtype=uint8), array(['Class 9'], dtype='<U7')],\n",
      "         [array([[10]], dtype=uint8), array(['Class 10'], dtype='<U8')],\n",
      "         [array([[11]], dtype=uint8), array(['Class 11'], dtype='<U8')],\n",
      "         [array([[12]], dtype=uint8), array(['Class 12'], dtype='<U8')],\n",
      "         [array([[13]], dtype=uint8), array(['Class 13'], dtype='<U8')],\n",
      "         [array([[14]], dtype=uint8), array(['Class 14'], dtype='<U8')],\n",
      "         [array([[16]], dtype=uint8), array(['Class 16'], dtype='<U8')],\n",
      "         [array([[17]], dtype=uint8), array(['Class 17'], dtype='<U8')]],\n",
      "        dtype=object)\n",
      "  array([[array([[1]], dtype=uint8), array(['Class 1'], dtype='<U7')],\n",
      "         [array([[2]], dtype=uint8), array(['Class 2'], dtype='<U7')],\n",
      "         [array([[3]], dtype=uint8), array(['Class 3'], dtype='<U7')],\n",
      "         [array([[4]], dtype=uint8), array(['Class 4'], dtype='<U7')],\n",
      "         [array([[5]], dtype=uint8), array(['Class 5'], dtype='<U7')],\n",
      "         [array([[6]], dtype=uint8), array(['Class 6'], dtype='<U7')],\n",
      "         [array([[7]], dtype=uint8), array(['Class 7'], dtype='<U7')],\n",
      "         [array([[8]], dtype=uint8), array(['Class 8'], dtype='<U7')],\n",
      "         [array([[9]], dtype=uint8), array(['Class 9'], dtype='<U7')],\n",
      "         [array([[10]], dtype=uint8), array(['Class 10'], dtype='<U8')],\n",
      "         [array([[11]], dtype=uint8), array(['Class 11'], dtype='<U8')],\n",
      "         [array([[12]], dtype=uint8), array(['Class 12'], dtype='<U8')],\n",
      "         [array([[13]], dtype=uint8), array(['Class 13'], dtype='<U8')]],\n",
      "        dtype=object)\n",
      "  array([[array([[1]], dtype=uint8), array(['Class 1'], dtype='<U7')],\n",
      "         [array([[0]], dtype=uint8), array(['Class 0'], dtype='<U7')]],\n",
      "        dtype=object)                                                  ]\n",
      " [array([], shape=(0, 0), dtype=object)\n",
      "  array([], shape=(0, 0), dtype=object)\n",
      "  array([], shape=(0, 0), dtype=object)]]\n",
      "\n"
     ]
    }
   ],
   "source": [
    "for i in range(11,15,1):\n",
    "    print(i ,end = '                ')\n",
    "    print(data['X'][0,0][i])\n",
    "    print()"
   ]
  },
  {
   "cell_type": "code",
   "execution_count": null,
   "metadata": {},
   "outputs": [],
   "source": []
  }
 ],
 "metadata": {
  "kernelspec": {
   "display_name": "Python 3.9.7 ('ai50')",
   "language": "python",
   "name": "python3"
  },
  "language_info": {
   "codemirror_mode": {
    "name": "ipython",
    "version": 3
   },
   "file_extension": ".py",
   "mimetype": "text/x-python",
   "name": "python",
   "nbconvert_exporter": "python",
   "pygments_lexer": "ipython3",
   "version": "3.9.7"
  },
  "orig_nbformat": 4,
  "vscode": {
   "interpreter": {
    "hash": "da867d72de60a3e86a2b69a9a7baea090d67382d01a73f765a7401ae7e7cc0f6"
   }
  }
 },
 "nbformat": 4,
 "nbformat_minor": 2
}
